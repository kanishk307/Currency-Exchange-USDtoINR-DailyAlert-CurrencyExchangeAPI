{
 "cells": [
  {
   "cell_type": "code",
   "execution_count": 5,
   "metadata": {},
   "outputs": [],
   "source": [
    "import requests\n",
    "import smtplib \n",
    "from email.mime.multipart import MIMEMultipart \n",
    "from email.mime.text import MIMEText \n",
    "from email.mime.base import MIMEBase \n",
    "from email import encoders\n",
    "import schedule\n",
    "import time"
   ]
  },
  {
   "cell_type": "code",
   "execution_count": 6,
   "metadata": {},
   "outputs": [],
   "source": [
    "def send_exchange_rate():\n",
    "        api_key = '18538a940f80b6a9c509dbef'\n",
    "\n",
    "        #Endpoint\n",
    "        # GET https://v6.exchangerate-api.com/v6/YOUR-API-KEY/latest/USD\n",
    "\n",
    "        currency = 'USD'\n",
    "\n",
    "        url = f\"https://v6.exchangerate-api.com/v6/{api_key}/latest/{currency}\"\n",
    "\n",
    "        r = requests.get(url)\n",
    "\n",
    "        output = r.json()\n",
    "\n",
    "        USD_code = output['base_code']\n",
    "\n",
    "        conversation_rates = output['conversion_rates']\n",
    "        usd = conversation_rates['USD']\n",
    "        inr = conversation_rates['INR']\n",
    "\n",
    "        if inr > 75 or inr <70:\n",
    "            fromaddr = \"senderEmail@service.com\" #You might get an authentication error. You can go to https://stackoverflow.com/questions/16512592/login-credentials-not-working-with-gmail-smtp to fix the error.\n",
    "            toaddr = \"ReceiverEmail@service.com\"\n",
    "            password = \"Enter Your Password Here\"\n",
    "\n",
    "            # instance of MIMEMultipart \n",
    "            msg = MIMEMultipart() \n",
    "\n",
    "            # storing the senders email address   \n",
    "            msg['From'] = fromaddr \n",
    "\n",
    "            # storing the receivers email address  \n",
    "            msg['To'] = toaddr \n",
    "\n",
    "            # storing the subject\n",
    "            if inr > 75:\n",
    "                msg['Subject'] = \"Value of INR is more than 75\"\n",
    "                body = f\"Value of INR is more than 75. Today's rate is {inr}\"\n",
    "            else:\n",
    "                msg['Subject'] = \"Value of INR is less than 70\"\n",
    "                body = f\"Value of INR is less than 70. Today's rate is {inr}\"\n",
    "\n",
    "            # string to store the body of the mail \n",
    "\n",
    "\n",
    "            # attach the body with the msg instance \n",
    "            msg.attach(MIMEText(body, 'plain')) \n",
    "\n",
    "\n",
    "            # creates SMTP session \n",
    "            s = smtplib.SMTP('smtp.gmail.com', 587) \n",
    "\n",
    "            # start TLS for security \n",
    "            s.starttls() \n",
    "\n",
    "            # Authentication \n",
    "            s.login(fromaddr, password) \n",
    "\n",
    "            # Converts the Multipart msg into a string \n",
    "            text = msg.as_string() \n",
    "\n",
    "            # sending the mail \n",
    "            s.sendmail(fromaddr, toaddr, text) \n",
    "\n",
    "            # terminating the session \n",
    "            s.quit() \n",
    "        else:\n",
    "            msg['Subject'] = \"Today's INR value\"\n",
    "            body = f\"Today's rate is {inr}\"\n"
   ]
  },
  {
   "cell_type": "code",
   "execution_count": 7,
   "metadata": {},
   "outputs": [
    {
     "ename": "KeyboardInterrupt",
     "evalue": "",
     "output_type": "error",
     "traceback": [
      "\u001b[1;31m---------------------------------------------------------------------------\u001b[0m",
      "\u001b[1;31mKeyboardInterrupt\u001b[0m                         Traceback (most recent call last)",
      "\u001b[1;32m<ipython-input-7-1025386e93f2>\u001b[0m in \u001b[0;36m<module>\u001b[1;34m\u001b[0m\n\u001b[0;32m      3\u001b[0m \u001b[1;32mwhile\u001b[0m \u001b[1;32mTrue\u001b[0m\u001b[1;33m:\u001b[0m\u001b[1;33m\u001b[0m\u001b[1;33m\u001b[0m\u001b[0m\n\u001b[0;32m      4\u001b[0m     \u001b[0mschedule\u001b[0m\u001b[1;33m.\u001b[0m\u001b[0mrun_pending\u001b[0m\u001b[1;33m(\u001b[0m\u001b[1;33m)\u001b[0m\u001b[1;33m\u001b[0m\u001b[1;33m\u001b[0m\u001b[0m\n\u001b[1;32m----> 5\u001b[1;33m     \u001b[0mtime\u001b[0m\u001b[1;33m.\u001b[0m\u001b[0msleep\u001b[0m\u001b[1;33m(\u001b[0m\u001b[1;36m1\u001b[0m\u001b[1;33m)\u001b[0m\u001b[1;33m\u001b[0m\u001b[1;33m\u001b[0m\u001b[0m\n\u001b[0m",
      "\u001b[1;31mKeyboardInterrupt\u001b[0m: "
     ]
    }
   ],
   "source": [
    "schedule.every().day.at(\"07:00\").do(send_exchange_rate)\n",
    "\n",
    "while True:\n",
    "    schedule.run_pending()\n",
    "    time.sleep(1)"
   ]
  },
  {
   "cell_type": "code",
   "execution_count": null,
   "metadata": {},
   "outputs": [],
   "source": []
  }
 ],
 "metadata": {
  "kernelspec": {
   "display_name": "Python 3",
   "language": "python",
   "name": "python3"
  },
  "language_info": {
   "codemirror_mode": {
    "name": "ipython",
    "version": 3
   },
   "file_extension": ".py",
   "mimetype": "text/x-python",
   "name": "python",
   "nbconvert_exporter": "python",
   "pygments_lexer": "ipython3",
   "version": "3.8.2"
  }
 },
 "nbformat": 4,
 "nbformat_minor": 4
}
